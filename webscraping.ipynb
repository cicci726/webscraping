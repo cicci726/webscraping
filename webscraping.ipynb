{
 "cells": [
  {
   "cell_type": "code",
   "execution_count": null,
   "id": "72d0edce-8eb5-4758-8c1e-114c21546ebc",
   "metadata": {
    "tags": []
   },
   "outputs": [],
   "source": [
    "#import packages\n",
    "import pandas as pd\n",
    "import numpy as np\n",
    "import csv\n",
    "import Bio"
   ]
  },
  {
   "cell_type": "code",
   "execution_count": null,
   "id": "5279be35-6524-4ffd-a8e0-552055db2843",
   "metadata": {
    "tags": []
   },
   "outputs": [],
   "source": [
    "#read in the file with the \n",
    "Genes = pd.read_csv('test_file.txt',sep='\\t') "
   ]
  },
  {
   "cell_type": "code",
   "execution_count": null,
   "id": "137994e6-d792-4e5c-a9f1-08ab5da3c0ce",
   "metadata": {
    "tags": []
   },
   "outputs": [],
   "source": [
    "#check if your file contains the gene names you want to find the annotations for\n",
    "Genes"
   ]
  },
  {
   "cell_type": "code",
   "execution_count": null,
   "id": "af4bae13-14a4-4f9f-a99f-d94b8379a428",
   "metadata": {
    "tags": []
   },
   "outputs": [],
   "source": [
    "df_Genes = pd.DataFrame(Genes)"
   ]
  },
  {
   "cell_type": "code",
   "execution_count": null,
   "id": "a49dd15a-800b-445b-a1a4-864eeef09ffb",
   "metadata": {
    "tags": []
   },
   "outputs": [],
   "source": [
    "df_Genes"
   ]
  },
  {
   "cell_type": "code",
   "execution_count": null,
   "id": "9d5ccd2a-c5a4-4e40-bc23-f40a8e59a39e",
   "metadata": {
    "tags": []
   },
   "outputs": [],
   "source": [
    "#set index\n",
    "df_Genes_index = df_Genes.set_index(\"GeneId\")"
   ]
  },
  {
   "cell_type": "code",
   "execution_count": null,
   "id": "89d1453d-0978-4748-a664-148d0ae3b817",
   "metadata": {
    "tags": []
   },
   "outputs": [],
   "source": [
    "df_Genes"
   ]
  },
  {
   "cell_type": "code",
   "execution_count": null,
   "id": "40fea5f5-994f-4e52-98cc-4b88236e5ea4",
   "metadata": {
    "tags": []
   },
   "outputs": [],
   "source": [
    "#prepare an URL list by appending a pre-defined URL by the gene names\n",
    "url_list =[]\n",
    "id_list = list(df_Genes['GeneId'])\n",
    "i=0\n",
    "for row in id_list:\n",
    "    url_list.append(f'https://www.ncbi.nlm.nih.gov/gene/?term={id_list[i]}')\n",
    "    i+=1\n",
    "print('The url-list is completed')"
   ]
  },
  {
   "cell_type": "code",
   "execution_count": null,
   "id": "1d6b61bf-98ee-4266-95a3-011b132c9915",
   "metadata": {
    "tags": []
   },
   "outputs": [],
   "source": [
    "#check the entries\n",
    "url_list[0:5]"
   ]
  },
  {
   "cell_type": "code",
   "execution_count": null,
   "id": "a85478f0-fd51-4cf6-ac42-fd6695452fc1",
   "metadata": {
    "tags": []
   },
   "outputs": [],
   "source": [
    "#web scraping:loop through the list and open one url after the other. The names will be written into a new list called Names\n",
    "from urllib.request import urlopen\n",
    "import re\n",
    "\n",
    "df_genes = pd.DataFrame(url_list, columns = [\"URLs\"])\n",
    "Names=[]\n",
    "\n",
    "i=0\n",
    "print(\"This will take some time. Drink more coffe while I am working\")\n",
    "for row in url_list:\n",
    "    try:\n",
    "        page = urlopen(url_list[i])\n",
    "        html_bytes = page.read()\n",
    "        html = html_bytes.decode(\"utf-8\")\n",
    "        pattern = \"<title.*?>.*?</title.*?>\"\n",
    "        match_results = re.search(pattern, html, re.IGNORECASE)\n",
    "        title = match_results.group()\n",
    "        title = re.sub(\"<.*?>\", \"\", title) # Remove HTML tags\n",
    "        print(f'Id #{i+1}/{len(df_genes)} is {title}')\n",
    "        Names.append(title)\n",
    "    except:\n",
    "        title = \"not found\"\n",
    "        print(f'ID #{i+1}/{len(df_genes)} is {title}')\n",
    "        Names.append(title)\n",
    "        pass\n",
    "    i+=1\n",
    "    if i==len(url_list):\n",
    "        print(\"My duty is done, MASTER!\")\n",
    "        break"
   ]
  },
  {
   "cell_type": "code",
   "execution_count": null,
   "id": "465e4797-f9fa-4da4-9a64-841b45cef0a8",
   "metadata": {
    "tags": []
   },
   "outputs": [],
   "source": [
    "df_Genes[\"URLs\"] = url_list"
   ]
  },
  {
   "cell_type": "code",
   "execution_count": null,
   "id": "0ef4e428-227b-42b3-9252-4496bef309d0",
   "metadata": {
    "tags": []
   },
   "outputs": [],
   "source": [
    "df_Genes[\"Annotation\"] = pd.DataFrame(Names)"
   ]
  },
  {
   "cell_type": "code",
   "execution_count": null,
   "id": "386609f4-dadd-4e68-9345-246452a11356",
   "metadata": {
    "tags": []
   },
   "outputs": [],
   "source": [
    "df_Genes"
   ]
  },
  {
   "cell_type": "code",
   "execution_count": null,
   "id": "9d6eab17-7c42-4e29-9fcd-72b3b8c47d58",
   "metadata": {
    "tags": []
   },
   "outputs": [],
   "source": [
    "#write to csv file\n",
    "df_Genes.to_csv('file_ID.txt', sep='\\t', index = False)"
   ]
  },
  {
   "cell_type": "code",
   "execution_count": null,
   "id": "eef55888-c32a-4c0b-beb7-2ac9ca1efe88",
   "metadata": {},
   "outputs": [],
   "source": []
  },
  {
   "cell_type": "code",
   "execution_count": null,
   "id": "f729b6e5-127f-48c7-b485-563aff4edd26",
   "metadata": {},
   "outputs": [],
   "source": []
  },
  {
   "cell_type": "code",
   "execution_count": null,
   "id": "5c90cac6-ac14-4872-bff1-49c4139acb04",
   "metadata": {},
   "outputs": [],
   "source": []
  },
  {
   "cell_type": "code",
   "execution_count": null,
   "id": "651ebbc6-74fd-41f8-9761-77b5ca3ad1d4",
   "metadata": {},
   "outputs": [],
   "source": []
  }
 ],
 "metadata": {
  "kernelspec": {
   "display_name": "Python 3",
   "language": "python",
   "name": "python3"
  },
  "language_info": {
   "codemirror_mode": {
    "name": "ipython",
    "version": 3
   },
   "file_extension": ".py",
   "mimetype": "text/x-python",
   "name": "python",
   "nbconvert_exporter": "python",
   "pygments_lexer": "ipython3",
   "version": "3.8.13"
  }
 },
 "nbformat": 4,
 "nbformat_minor": 5
}
